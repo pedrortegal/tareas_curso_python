{
 "cells": [
  {
   "cell_type": "markdown",
   "metadata": {},
   "source": [
    "## Tarea 3"
   ]
  },
  {
   "cell_type": "markdown",
   "metadata": {},
   "source": [
    "#Punto 1"
   ]
  },
  {
   "cell_type": "code",
   "execution_count": 1,
   "metadata": {},
   "outputs": [
    {
     "name": "stdout",
     "output_type": "stream",
     "text": [
      "la longitud es  7.95  y la latitud es  4.95\n"
     ]
    }
   ],
   "source": [
    "longitud = float(input(\"Introduce la longitud: \"))\n",
    "longitud_r=round(longitud,2)\n",
    "latitud = float(input(\"Introduce la latitud: \"))\n",
    "latitud_r=round(latitud,2)\n",
    "print(\"la longitud es \",longitud_r,\" y la latitud es \",latitud_r)"
   ]
  },
  {
   "cell_type": "markdown",
   "metadata": {},
   "source": [
    "#Punto 2"
   ]
  },
  {
   "cell_type": "code",
   "execution_count": 63,
   "metadata": {},
   "outputs": [
    {
     "name": "stdout",
     "output_type": "stream",
     "text": [
      "Hola  Pedro  bienvenido a Python\n"
     ]
    }
   ],
   "source": [
    "nombre=input(\"entre su nombre:\")\n",
    "print(\"Hola \",nombre,\" bienvenido a Python\")"
   ]
  },
  {
   "cell_type": "markdown",
   "metadata": {},
   "source": [
    "#Punto 3"
   ]
  },
  {
   "cell_type": "code",
   "execution_count": 64,
   "metadata": {},
   "outputs": [
    {
     "name": "stdout",
     "output_type": "stream",
     "text": [
      "75.98 C es  168.764 F\n"
     ]
    }
   ],
   "source": [
    "temperatura_C=float(input(\"Entre la temperatura en Celsius a convertir: \"))\n",
    "temperatura_F=temperatura_C*(9/5)+32\n",
    "print(temperatura_C,\"C es \",temperatura_F,\"F\")"
   ]
  },
  {
   "cell_type": "markdown",
   "metadata": {},
   "source": [
    "#Punto opcional"
   ]
  },
  {
   "cell_type": "code",
   "execution_count": 71,
   "metadata": {},
   "outputs": [],
   "source": [
    "numero=int(input(\"Entre el número a evaluar:\"))\n",
    "for n in range(2,numero):\n",
    "    if numero % n==0:\n",
    "        print(numero,\" no es primo \",n,\" es el divisor\")\n",
    "        condicion=True\n",
    "        \n",
    "if condicion==False:\n",
    "    print(numero,\" es primo\")"
   ]
  },
  {
   "cell_type": "code",
   "execution_count": 2,
   "metadata": {},
   "outputs": [
    {
     "ename": "NameError",
     "evalue": "name 'randint' is not defined",
     "output_type": "error",
     "traceback": [
      "\u001b[1;31m---------------------------------------------------------------------------\u001b[0m",
      "\u001b[1;31mNameError\u001b[0m                                 Traceback (most recent call last)",
      "Cell \u001b[1;32mIn[2], line 1\u001b[0m\n\u001b[1;32m----> 1\u001b[0m dado\u001b[38;5;241m=\u001b[39m\u001b[43mrandint\u001b[49m(\u001b[38;5;241m1\u001b[39m,\u001b[38;5;241m6\u001b[39m)\n\u001b[0;32m      2\u001b[0m \u001b[38;5;28mprint\u001b[39m(dado)\n",
      "\u001b[1;31mNameError\u001b[0m: name 'randint' is not defined"
     ]
    }
   ],
   "source": [
    "dado=randint(1,6)\n",
    "print(dado)"
   ]
  }
 ],
 "metadata": {
  "kernelspec": {
   "display_name": "ambiente_curso",
   "language": "python",
   "name": "python3"
  },
  "language_info": {
   "codemirror_mode": {
    "name": "ipython",
    "version": 3
   },
   "file_extension": ".py",
   "mimetype": "text/x-python",
   "name": "python",
   "nbconvert_exporter": "python",
   "pygments_lexer": "ipython3",
   "version": "3.12.1"
  }
 },
 "nbformat": 4,
 "nbformat_minor": 2
}
